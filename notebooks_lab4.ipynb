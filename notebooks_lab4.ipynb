{
  "metadata": {
    "language_info": {
      "codemirror_mode": {
        "name": "python",
        "version": 3
      },
      "file_extension": ".py",
      "mimetype": "text/x-python",
      "name": "python",
      "nbconvert_exporter": "python",
      "pygments_lexer": "ipython3",
      "version": "3.8"
    },
    "kernelspec": {
      "name": "python",
      "display_name": "Python (Pyodide)",
      "language": "python"
    }
  },
  "nbformat_minor": 4,
  "nbformat": 4,
  "cells": [
    {
      "cell_type": "markdown",
      "source": "Импорт библиотек",
      "metadata": {}
    },
    {
      "cell_type": "code",
      "source": "import pandas as pd\nimport numpy as np\nimport openpyxl\nimport matplotlib.pyplot as plt\nimport matplotlib\nimport sklearn.metrics\nfrom matplotlib.widgets import RadioButtons\nfrom sklearn.linear_model import LinearRegression\nimport seaborn as sns\nfrom sklearn.model_selection import train_test_split\nfrom sklearn.metrics import mean_squared_error, accuracy_score\nfrom sklearn.ensemble import RandomForestRegressor\nfrom statsmodels.stats.outliers_influence import variance_inflation_factor\nfrom statsmodels.tools.tools import add_constant",
      "metadata": {
        "trusted": true
      },
      "execution_count": null,
      "outputs": []
    },
    {
      "cell_type": "markdown",
      "source": "настройки для ништяков",
      "metadata": {}
    },
    {
      "cell_type": "code",
      "source": "pd.set_option('display.max_columns', 20)\npd.set_option('display.width', 2000)\npd.set_option('display.max_rows', 150)\nfig, ax = plt.subplots(1, figsize=(13,7))\nplt.subplots_adjust(left=0.3)",
      "metadata": {
        "trusted": true
      },
      "execution_count": null,
      "outputs": []
    },
    {
      "cell_type": "markdown",
      "source": "создаем модель и импорт csv",
      "metadata": {}
    },
    {
      "cell_type": "code",
      "source": "model = LinearRegression()\nexl = pd.read_csv ('mcs_ds_edited_iter_shuffled.csv')\nexlData = pd.DataFrame(exl)\nexlData = exlData.drop(exlData.columns[[5]],axis=1)",
      "metadata": {
        "trusted": true
      },
      "execution_count": null,
      "outputs": []
    },
    {
      "cell_type": "markdown",
      "source": "переменные осей",
      "metadata": {}
    },
    {
      "cell_type": "code",
      "source": "x = exlData.iloc[:, 4].values\ny1 = exlData.iloc[:,0].values\ny2 = exlData.iloc[:,1].values\ny3 = exlData.iloc[:,2].values\ny4 = exlData.iloc[:,3].values\ny5 = exlData.iloc[:,4].values",
      "metadata": {
        "trusted": true
      },
      "execution_count": null,
      "outputs": []
    },
    {
      "cell_type": "markdown",
      "source": "функция для кнопок и сами кнопки",
      "metadata": {}
    },
    {
      "cell_type": "code",
      "source": "def click(label):\n    ax.clear()\n    if label == \"linear Regression of trans_range\":\n        ax.scatter(x, y2, color='gray')\n        ax.plot([np.min(x), np.max(x)], [np.min(y2), np.max(y2)], 'k--')\n        ax.set_title(\"linear Regression of trans_range\", c='dodgerblue')\n    elif label == \"linear Regression of anchor_ratio\":\n        ax.scatter(x, y1, color='gray')\n        ax.plot([np.min(x), np.max(x)], [np.min(y1), np.max(y1)], 'k--')\n        ax.set_title(\"linear Regression of anchor_ratio\", c='dodgerblue')\n    elif label == \"linear Regression of node_density\":\n        ax.scatter(x, y3, color='gray')\n        ax.plot([np.min(x), np.max(x)], [np.min(y3), np.max(y3)], 'k--')\n        ax.set_title(\"linear Regression of node_density\", c='dodgerblue')\n    elif label == \"linear Regression of iterations\":\n        ax.scatter(x, y4, color='gray')\n        ax.plot([np.min(x), np.max(x)], [np.min(y4), np.max(y4)], 'k--')\n        ax.set_title(\"linear Regression of iterations\", c='dodgerblue')\n        \nrax = plt.axes([0.02, 0.55, 0.20, 0.35], facecolor='white')\nradio = RadioButtons(rax, ('linear Regression of anchor_ratio', 'linear Regression of trans_range', 'linear Regression of node_density',\n                           'linear Regression of iterations'), activecolor='k')",
      "metadata": {
        "trusted": true
      },
      "execution_count": null,
      "outputs": []
    },
    {
      "cell_type": "markdown",
      "source": "функция для вычисления VIF",
      "metadata": {}
    },
    {
      "cell_type": "code",
      "source": "def compute_vif(considered_features):\n    X = exlData[considered_features]\n    X['intercept'] = 1\n\n    vif = pd.DataFrame()\n    vif[\"Variable\"] = X.columns\n    vif[\"VIF\"] = [variance_inflation_factor(X.values, i) for i in range(X.shape[1])]\n    vif = vif[vif['Variable'] != 'intercept']\n    return vif\n",
      "metadata": {
        "trusted": true
      },
      "execution_count": null,
      "outputs": []
    },
    {
      "cell_type": "markdown",
      "source": "heatmap drawer",
      "metadata": {}
    },
    {
      "cell_type": "code",
      "source": "plt.figure(figsize=(9,6))\nmask = np.zeros_like(exlData.corr())\ntriangle_indices = np.triu_indices_from(mask)\nmask[triangle_indices] = True\nsns.heatmap(exlData.corr(), mask=mask, annot=True, annot_kws={'size': 14})\nsns.set_style('white')\nplt.xticks(fontsize=9)\nplt.yticks(fontsize=9)",
      "metadata": {
        "trusted": true
      },
      "execution_count": null,
      "outputs": []
    },
    {
      "cell_type": "markdown",
      "source": "корреляция",
      "metadata": {}
    },
    {
      "cell_type": "code",
      "source": "rm_tgt_corr=round(exlData['anchor_ratio'].corr(exlData['trans_range']), 3)\nplt.figure(figsize=(9,6))\nplt.scatter(x=exlData['anchor_ratio'], y=exlData['trans_range'], alpha=0.6, s=80, color='blue')\nplt.xlabel('anchor_ratio')\nplt.ylabel('trans_range')",
      "metadata": {
        "trusted": true
      },
      "execution_count": null,
      "outputs": []
    },
    {
      "cell_type": "markdown",
      "source": "разделение выборки",
      "metadata": {
        "tags": []
      }
    },
    {
      "cell_type": "code",
      "source": "x2 = np.c_[exlData['anchor_ratio'],exlData['trans_range'],exlData['node_density'],exlData['iterations']]\nX_train, X_test, y_train, y_test = train_test_split(x2, y5, test_size=0.4)\nmodel.fit(X_train,y_train)\npred = model.predict(X_test)\ny_pred = model.predict(x2)\ntest_rmse = (np.sqrt(mean_squared_error(y_test,pred)))\ntestR2 = sklearn.metrics.r2_score(y_test, pred)",
      "metadata": {
        "trusted": true
      },
      "execution_count": null,
      "outputs": []
    },
    {
      "cell_type": "markdown",
      "source": "VIF вывод",
      "metadata": {}
    },
    {
      "cell_type": "code",
      "source": "considered_features =['anchor_ratio', 'trans_range', 'node_density', 'iterations']\na = compute_vif(considered_features).sort_values('VIF', ascending=False)\nprint(a)",
      "metadata": {
        "trusted": true
      },
      "execution_count": null,
      "outputs": []
    },
    {
      "cell_type": "markdown",
      "source": "вывод статистических значений",
      "metadata": {}
    },
    {
      "cell_type": "code",
      "source": "print('mean_squared_error: ',mean_squared_error(y5, y_pred))\nprint('mean_accuracy_error ',model.score(X_test, y_test))\nprint('показатели точности: ')\nprint(test_rmse)\nprint(testR2)\nprint('intercept: ', model.intercept_)\nprint('score: ', model.score(x2,y5))\nmodel2 = RandomForestRegressor()\nmodel2.fit(X_train, y_train)\nprint('coef: ', model2.feature_importances_)",
      "metadata": {
        "trusted": true
      },
      "execution_count": null,
      "outputs": []
    },
    {
      "cell_type": "markdown",
      "source": "отображение всего действия",
      "metadata": {}
    },
    {
      "cell_type": "code",
      "source": "ax.scatter(x, y1, color='gray')\nax.plot([np.min(x), np.max(x)], [np.min(y1), np.max(y1)], 'k--')\nax.set_title(\"linear Regression of anchor_ratio\", c='dodgerblue')\nradio.on_clicked(click)\nprint(exlData)\nplt.show()",
      "metadata": {
        "trusted": true
      },
      "execution_count": null,
      "outputs": []
    },
    {
      "cell_type": "markdown",
      "source": "я незнаю работает ли это в юпитере, если что там есть .py файл, а тут просто все расписано :)",
      "metadata": {}
    }
  ]
}